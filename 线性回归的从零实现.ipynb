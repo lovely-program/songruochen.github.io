{
 "cells": [
  {
   "cell_type": "code",
   "execution_count": 53,
   "id": "8b9a0ea9-f060-439d-b882-3f9686414a3d",
   "metadata": {},
   "outputs": [],
   "source": [
    "#调取必要的库\n",
    "%matplotlib inline\n",
    "import matplotlib\n",
    "import matplotlib.pyplot as plt\n",
    "import random\n",
    "import torch"
   ]
  },
  {
   "cell_type": "code",
   "execution_count": 61,
   "id": "ae9835a9-09ad-4461-a48d-4355fb9df3dd",
   "metadata": {},
   "outputs": [
    {
     "data": {
      "image/png": "[encoded data removed]",
      "text/plain": [
       "<Figure size 640x480 with 1 Axes>"
      ]
     },
     "metadata": {},
     "output_type": "display_data"
    },
    {
     "ename": "TypeError",
     "evalue": "'list' object is not callable",
     "output_type": "error",
     "traceback": [
      "\u001b[1;31m---------------------------------------------------------------------------\u001b[0m",
      "\u001b[1;31mTypeError\u001b[0m                                 Traceback (most recent call last)",
      "Cell \u001b[1;32mIn[61], line 26\u001b[0m\n\u001b[0;32m     23\u001b[0m         \u001b[38;5;28;01myield\u001b[39;00m features[batch_indices], labels[batch_indices]\n\u001b[0;32m     25\u001b[0m batch_size \u001b[38;5;241m=\u001b[39m \u001b[38;5;241m10\u001b[39m\n\u001b[1;32m---> 26\u001b[0m \u001b[38;5;28;01mfor\u001b[39;00m X, y \u001b[38;5;129;01min\u001b[39;00m data_iter(batch_size, features, labels):\n\u001b[0;32m     27\u001b[0m     \u001b[38;5;28mprint\u001b[39m(X, \u001b[38;5;124m'\u001b[39m\u001b[38;5;130;01m\\n\u001b[39;00m\u001b[38;5;124m'\u001b[39m, y)\n\u001b[0;32m     28\u001b[0m     \u001b[38;5;28;01mbreak\u001b[39;00m\n",
      "Cell \u001b[1;32mIn[61], line 19\u001b[0m, in \u001b[0;36mdata_iter\u001b[1;34m(batch_size, features, labels)\u001b[0m\n\u001b[0;32m     17\u001b[0m \u001b[38;5;28;01mdef\u001b[39;00m \u001b[38;5;21mdata_iter\u001b[39m(batch_size, features, labels):\n\u001b[0;32m     18\u001b[0m     num_examples \u001b[38;5;241m=\u001b[39m \u001b[38;5;28mlen\u001b[39m(features)\n\u001b[1;32m---> 19\u001b[0m     indices \u001b[38;5;241m=\u001b[39m \u001b[38;5;28mlist\u001b[39m(\u001b[38;5;28mrange\u001b[39m(\u001b[38;5;241m0\u001b[39m,num_examples))\n\u001b[0;32m     20\u001b[0m     random\u001b[38;5;241m.\u001b[39mshuffle(indices)\n\u001b[0;32m     21\u001b[0m     \u001b[38;5;28;01mfor\u001b[39;00m i \u001b[38;5;129;01min\u001b[39;00m \u001b[38;5;28mrange\u001b[39m(\u001b[38;5;241m0\u001b[39m, num_examples, batch_size):\n",
      "\u001b[1;31mTypeError\u001b[0m: 'list' object is not callable"
     ]
    }
   ],
   "source": [
    "#生成数据集\n",
    "#生成一个产生随机数的函数\n",
    "    #这个函数需要哪些参数呢y = Xw+b+σ,噪声σ默认符合正态分布（默认均值为0，std = 0.01）可以随机生成；还需要确定生成随机数的数目num_examples\n",
    "    #w是一个list，决定了X的大小\n",
    "def synthetic_data(w,b,num_examples):\n",
    "    X = torch.normal(0,1,size = (num_examples,len(w)))\n",
    "    y = torch.matmul(X,w)+b\n",
    "    y += torch.normal(0,0.01,size = y.shape)\n",
    "    return X, y.reshape((-1,1))\n",
    "\n",
    "true_w = torch.tensor([2,-3.4])\n",
    "true_b = 4.2\n",
    "features, labels = synthetic_data(true_w,true_b,1000)\n",
    "plt.scatter(features[:,1].detach().numpy(),labels.detach().numpy(),1)\n",
    "plt.show()\n",
    "\n",
    "def data_iter(batch_size, features, labels):\n",
    "    num_examples = len(features)\n",
    "    indices = list(range(0,num_examples))\n",
    "    random.shuffle(indices)\n",
    "    for i in range(0, num_examples, batch_size):\n",
    "        batch_indices = torch.tensor(indices[i:min(i + batch_size, num_examples)])\n",
    "        yield features[batch_indices], labels[batch_indices]\n",
    "\n",
    "batch_size = 10\n",
    "for X, y in data_iter(batch_size, features, labels):\n",
    "    print(X, '\\n', y)\n",
    "    break"
   ]
  },
  {
   "cell_type": "code",
   "execution_count": 57,
   "id": "c9afc600-8920-4ae4-8140-5542d026fb27",
   "metadata": {},
   "outputs": [
    {
     "ename": "TypeError",
     "evalue": "'list' object is not callable",
     "output_type": "error",
     "traceback": [
      "\u001b[1;31m---------------------------------------------------------------------------\u001b[0m",
      "\u001b[1;31mTypeError\u001b[0m                                 Traceback (most recent call last)",
      "Cell \u001b[1;32mIn[57], line 12\u001b[0m\n\u001b[0;32m     10\u001b[0m         \u001b[38;5;28;01myield\u001b[39;00m features[batch_indices],labels[batch_indices]\n\u001b[0;32m     11\u001b[0m batch_size \u001b[38;5;241m=\u001b[39m \u001b[38;5;241m10\u001b[39m\n\u001b[1;32m---> 12\u001b[0m \u001b[38;5;28;01mfor\u001b[39;00m X , y \u001b[38;5;129;01min\u001b[39;00m data_iter(batch_size, features, labels):\n\u001b[0;32m     13\u001b[0m     \u001b[38;5;28mprint\u001b[39m(X,\u001b[38;5;124m'\u001b[39m\u001b[38;5;130;01m\\n\u001b[39;00m\u001b[38;5;124m'\u001b[39m,y)\n\u001b[0;32m     14\u001b[0m     \u001b[38;5;28;01mbreak\u001b[39;00m\n",
      "Cell \u001b[1;32mIn[57], line 6\u001b[0m, in \u001b[0;36mdata_iter\u001b[1;34m(batch_size, features, labels)\u001b[0m\n\u001b[0;32m      4\u001b[0m \u001b[38;5;28;01mdef\u001b[39;00m \u001b[38;5;21mdata_iter\u001b[39m(batch_size,features,labels):\n\u001b[0;32m      5\u001b[0m     num_examples \u001b[38;5;241m=\u001b[39m \u001b[38;5;28mlen\u001b[39m(features)\n\u001b[1;32m----> 6\u001b[0m     indices \u001b[38;5;241m=\u001b[39m \u001b[38;5;28mlist\u001b[39m(\u001b[38;5;28mrange\u001b[39m(num_examples))\n\u001b[0;32m      7\u001b[0m     random\u001b[38;5;241m.\u001b[39mshuffle(indices)\n\u001b[0;32m      8\u001b[0m     \u001b[38;5;28;01mfor\u001b[39;00m i \u001b[38;5;129;01min\u001b[39;00m \u001b[38;5;28mrange\u001b[39m(\u001b[38;5;241m0\u001b[39m,num_examples,batch_size):\n",
      "\u001b[1;31mTypeError\u001b[0m: 'list' object is not callable"
     ]
    }
   ],
   "source": [
    "#读取数据集\n",
    "#训练模型时需要遍历数据集，每次取一小批进行模型训练，更新模型\n",
    "#需要定义一个函数，打乱数据集，并且以小批量的样本提取数据\n",
    "def data_iter(batch_size,features,labels):\n",
    "    num_examples = len(features)\n",
    "    indices = list(range(num_examples))\n",
    "    random.shuffle(indices)\n",
    "    for i in range(0,num_examples,batch_size):\n",
    "        batch_indices = torch.tensor(indices[i:min(i+batch_size,num_examples)])\n",
    "        yield features[batch_indices],labels[batch_indices]\n",
    "batch_size = 10\n",
    "for X , y in data_iter(batch_size, features, labels):\n",
    "    print(X,'\\n',y)\n",
    "    break"
   ]
  },
  {
   "cell_type": "code",
   "execution_count": 56,
   "id": "19457421-e3d5-4749-9dce-a12e70bc6a48",
   "metadata": {},
   "outputs": [
    {
     "ename": "TypeError",
     "evalue": "'list' object is not callable",
     "output_type": "error",
     "traceback": [
      "\u001b[1;31m---------------------------------------------------------------------------\u001b[0m",
      "\u001b[1;31mTypeError\u001b[0m                                 Traceback (most recent call last)",
      "Cell \u001b[1;32mIn[56], line 13\u001b[0m\n\u001b[0;32m      9\u001b[0m         \u001b[38;5;28;01myield\u001b[39;00m features[batch_indices], labels[batch_indices]\n\u001b[0;32m     11\u001b[0m batch_size \u001b[38;5;241m=\u001b[39m \u001b[38;5;241m10\u001b[39m\n\u001b[1;32m---> 13\u001b[0m \u001b[38;5;28;01mfor\u001b[39;00m X, y \u001b[38;5;129;01min\u001b[39;00m data_iter(batch_size, features, labels):\n\u001b[0;32m     14\u001b[0m     \u001b[38;5;28mprint\u001b[39m(X, \u001b[38;5;124m'\u001b[39m\u001b[38;5;130;01m\\n\u001b[39;00m\u001b[38;5;124m'\u001b[39m, y)\n\u001b[0;32m     15\u001b[0m     \u001b[38;5;28;01mbreak\u001b[39;00m\n",
      "Cell \u001b[1;32mIn[56], line 3\u001b[0m, in \u001b[0;36mdata_iter\u001b[1;34m(batch_size, features, labels)\u001b[0m\n\u001b[0;32m      1\u001b[0m \u001b[38;5;28;01mdef\u001b[39;00m \u001b[38;5;21mdata_iter\u001b[39m(batch_size, features, labels):\n\u001b[0;32m      2\u001b[0m     num_examples \u001b[38;5;241m=\u001b[39m \u001b[38;5;28mlen\u001b[39m(features)\n\u001b[1;32m----> 3\u001b[0m     indices \u001b[38;5;241m=\u001b[39m \u001b[38;5;28mlist\u001b[39m(\u001b[38;5;28mrange\u001b[39m(num_examples))\n\u001b[0;32m      4\u001b[0m     \u001b[38;5;66;03m# 这些样本是随机读取的，没有特定的顺序\u001b[39;00m\n\u001b[0;32m      5\u001b[0m     random\u001b[38;5;241m.\u001b[39mshuffle(indices)\n",
      "\u001b[1;31mTypeError\u001b[0m: 'list' object is not callable"
     ]
    }
   ],
   "source": [
    "def data_iter(batch_size, features, labels):\n",
    "    num_examples = len(features)\n",
    "    indices = list(range(num_examples))\n",
    "    # 这些样本是随机读取的，没有特定的顺序\n",
    "    random.shuffle(indices)\n",
    "    for i in range(0, num_examples, batch_size):\n",
    "        batch_indices = torch.tensor(\n",
    "            indices[i: min(i + batch_size, num_examples)])\n",
    "        yield features[batch_indices], labels[batch_indices]\n",
    "\n",
    "batch_size = 10\n",
    "\n",
    "for X, y in data_iter(batch_size, features, labels):\n",
    "    print(X, '\\n', y)\n",
    "    break"
   ]
  },
  {
   "cell_type": "code",
   "execution_count": 58,
   "id": "e5b45c7f-f33b-48f4-bfd8-a7b8f1f827c0",
   "metadata": {},
   "outputs": [
    {
     "ename": "TypeError",
     "evalue": "'list' object is not callable",
     "output_type": "error",
     "traceback": [
      "\u001b[1;31m---------------------------------------------------------------------------\u001b[0m",
      "\u001b[1;31mTypeError\u001b[0m                                 Traceback (most recent call last)",
      "Cell \u001b[1;32mIn[58], line 10\u001b[0m\n\u001b[0;32m      7\u001b[0m         \u001b[38;5;28;01myield\u001b[39;00m features[batch_indices], labels[batch_indices]\n\u001b[0;32m      9\u001b[0m batch_size \u001b[38;5;241m=\u001b[39m \u001b[38;5;241m10\u001b[39m\n\u001b[1;32m---> 10\u001b[0m \u001b[38;5;28;01mfor\u001b[39;00m X, y \u001b[38;5;129;01min\u001b[39;00m data_iter(batch_size, features, labels):\n\u001b[0;32m     11\u001b[0m     \u001b[38;5;28mprint\u001b[39m(X, \u001b[38;5;124m'\u001b[39m\u001b[38;5;130;01m\\n\u001b[39;00m\u001b[38;5;124m'\u001b[39m, y)\n\u001b[0;32m     12\u001b[0m     \u001b[38;5;28;01mbreak\u001b[39;00m\n",
      "Cell \u001b[1;32mIn[58], line 3\u001b[0m, in \u001b[0;36mdata_iter\u001b[1;34m(batch_size, features, labels)\u001b[0m\n\u001b[0;32m      1\u001b[0m \u001b[38;5;28;01mdef\u001b[39;00m \u001b[38;5;21mdata_iter\u001b[39m(batch_size, features, labels):\n\u001b[0;32m      2\u001b[0m     num_examples \u001b[38;5;241m=\u001b[39m \u001b[38;5;28mlen\u001b[39m(features)\n\u001b[1;32m----> 3\u001b[0m     indices \u001b[38;5;241m=\u001b[39m \u001b[38;5;28mlist\u001b[39m(\u001b[38;5;28mrange\u001b[39m(num_examples))\n\u001b[0;32m      4\u001b[0m     random\u001b[38;5;241m.\u001b[39mshuffle(indices)\n\u001b[0;32m      5\u001b[0m     \u001b[38;5;28;01mfor\u001b[39;00m i \u001b[38;5;129;01min\u001b[39;00m \u001b[38;5;28mrange\u001b[39m(\u001b[38;5;241m0\u001b[39m, num_examples, batch_size):\n",
      "\u001b[1;31mTypeError\u001b[0m: 'list' object is not callable"
     ]
    }
   ],
   "source": [
    "def data_iter(batch_size, features, labels):\n",
    "    num_examples = len(features)\n",
    "    indices = list(range(num_examples))\n",
    "    random.shuffle(indices)\n",
    "    for i in range(0, num_examples, batch_size):\n",
    "        batch_indices = torch.tensor(indices[i:min(i + batch_size, num_examples)])\n",
    "        yield features[batch_indices], labels[batch_indices]\n",
    "\n",
    "batch_size = 10\n",
    "for X, y in data_iter(batch_size, features, labels):\n",
    "    print(X, '\\n', y)\n",
    "    break"
   ]
  },
  {
   "cell_type": "code",
   "execution_count": 62,
   "id": "afc51da3-cce0-4357-8698-690370caf708",
   "metadata": {},
   "outputs": [
    {
     "name": "stdout",
     "output_type": "stream",
     "text": [
      "Epoch 1\n",
      "tensor([[ 9., 10.],\n",
      "        [ 1.,  2.]]) \n",
      " tensor([0, 0])\n",
      "tensor([[7., 8.],\n",
      "        [5., 6.]]) \n",
      " tensor([1, 0])\n",
      "tensor([[3., 4.]]) \n",
      " tensor([1])\n",
      "Epoch 2\n",
      "tensor([[ 3.,  4.],\n",
      "        [ 9., 10.]]) \n",
      " tensor([1, 0])\n",
      "tensor([[7., 8.],\n",
      "        [5., 6.]]) \n",
      " tensor([1, 0])\n",
      "tensor([[1., 2.]]) \n",
      " tensor([0])\n",
      "Epoch 3\n",
      "tensor([[3., 4.],\n",
      "        [5., 6.]]) \n",
      " tensor([1, 0])\n",
      "tensor([[ 9., 10.],\n",
      "        [ 1.,  2.]]) \n",
      " tensor([0, 0])\n",
      "tensor([[7., 8.]]) \n",
      " tensor([1])\n"
     ]
    }
   ],
   "source": [
    "import torch\n",
    "from torch.utils.data import DataLoader, TensorDataset\n",
    "\n",
    "# 示例数据\n",
    "features = torch.tensor([[1.0, 2.0], [3.0, 4.0], [5.0, 6.0], [7.0, 8.0], [9.0, 10.0]])\n",
    "labels = torch.tensor([0, 1, 0, 1, 0])\n",
    "\n",
    "# 创建 TensorDataset\n",
    "dataset = TensorDataset(features, labels)\n",
    "\n",
    "# 创建 DataLoader\n",
    "batch_size = 2\n",
    "is_train = True  # 是否在每个迭代周期内打乱数据\n",
    "data_loader = DataLoader(dataset, batch_size=batch_size, shuffle=is_train)\n",
    "\n",
    "# 使用数据迭代器\n",
    "for epoch in range(3):  # 假设训练 3 个周期\n",
    "    print(f\"Epoch {epoch + 1}\")\n",
    "    for X, y in data_loader:\n",
    "        print(X, '\\n', y)"
   ]
  },
  {
   "cell_type": "code",
   "execution_count": 65,
   "id": "dd8358a1-6204-4a28-8e18-be1a613b1967",
   "metadata": {
    "scrolled": true
   },
   "outputs": [
    {
     "name": "stdout",
     "output_type": "stream",
     "text": [
      "Help on class TensorDataset in module torch.utils.data.dataset:\n",
      "\n",
      "class TensorDataset(Dataset)\n",
      " |  TensorDataset(*tensors: torch.Tensor) -> None\n",
      " |\n",
      " |  Dataset wrapping tensors.\n",
      " |\n",
      " |  Each sample will be retrieved by indexing tensors along the first dimension.\n",
      " |\n",
      " |  Args:\n",
      " |      *tensors (Tensor): tensors that have the same size of the first dimension.\n",
      " |\n",
      " |  Method resolution order:\n",
      " |      TensorDataset\n",
      " |      Dataset\n",
      " |      typing.Generic\n",
      " |      builtins.object\n",
      " |\n",
      " |  Methods defined here:\n",
      " |\n",
      " |  __getitem__(self, index)\n",
      " |\n",
      " |  __init__(self, *tensors: torch.Tensor) -> None\n",
      " |      Initialize self.  See help(type(self)) for accurate signature.\n",
      " |\n",
      " |  __len__(self)\n",
      " |\n",
      " |  ----------------------------------------------------------------------\n",
      " |  Data and other attributes defined here:\n",
      " |\n",
      " |  __annotations__ = {'tensors': typing.Tuple[torch.Tensor, ...]}\n",
      " |\n",
      " |  __orig_bases__ = (torch.utils.data.dataset.Dataset[typing.Tuple[torch....\n",
      " |\n",
      " |  __parameters__ = ()\n",
      " |\n",
      " |  ----------------------------------------------------------------------\n",
      " |  Methods inherited from Dataset:\n",
      " |\n",
      " |  __add__(self, other: 'Dataset[_T_co]') -> 'ConcatDataset[_T_co]'\n",
      " |\n",
      " |  ----------------------------------------------------------------------\n",
      " |  Data descriptors inherited from Dataset:\n",
      " |\n",
      " |  __dict__\n",
      " |      dictionary for instance variables\n",
      " |\n",
      " |  __weakref__\n",
      " |      list of weak references to the object\n",
      " |\n",
      " |  ----------------------------------------------------------------------\n",
      " |  Class methods inherited from typing.Generic:\n",
      " |\n",
      " |  __class_getitem__(...)\n",
      " |      Parameterizes a generic class.\n",
      " |\n",
      " |      At least, parameterizing a generic class is the *main* thing this\n",
      " |      method does. For example, for some generic class `Foo`, this is called\n",
      " |      when we do `Foo[int]` - there, with `cls=Foo` and `params=int`.\n",
      " |\n",
      " |      However, note that this method is also called when defining generic\n",
      " |      classes in the first place with `class Foo[T]: ...`.\n",
      " |\n",
      " |  __init_subclass__(...)\n",
      " |      Function to initialize subclasses.\n",
      "\n"
     ]
    }
   ],
   "source": [
    "help(TensorDataset)"
   ]
  },
  {
   "cell_type": "code",
   "execution_count": null,
   "id": "2d4f7e86-25fd-4a90-bef4-65fe3abf9f3b",
   "metadata": {},
   "outputs": [],
   "source": []
  }
 ],
 "metadata": {
  "kernelspec": {
   "display_name": "Python 3 (ipykernel)",
   "language": "python",
   "name": "python3"
  },
  "language_info": {
   "codemirror_mode": {
    "name": "ipython",
    "version": 3
   },
   "file_extension": ".py",
   "mimetype": "text/x-python",
   "name": "python",
   "nbconvert_exporter": "python",
   "pygments_lexer": "ipython3",
   "version": "3.12.7"
  }
 },
 "nbformat": 4,
 "nbformat_minor": 5
}
